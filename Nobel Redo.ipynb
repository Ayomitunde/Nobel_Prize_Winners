{
 "cells": [
  {
   "cell_type": "code",
   "execution_count": 1,
   "id": "1ed17ac4",
   "metadata": {},
   "outputs": [],
   "source": [
    "import pandas as pd\n",
    "import seaborn as sns\n",
    "import numpy as np\n",
    "import matplotlib.pylab as plt"
   ]
  },
  {
   "cell_type": "code",
   "execution_count": 2,
   "id": "6aa177f1",
   "metadata": {},
   "outputs": [
    {
     "data": {
      "text/plain": [
       "Index(['Id', 'Firstname', 'Surname', 'Born', 'Died', 'Born country',\n",
       "       'Born country code', 'Born city', 'Died country', 'Died country code',\n",
       "       'Died city', 'Gender', 'Year', 'Category', 'Overall motivation',\n",
       "       'Motivation', 'Organization name', 'Organization city',\n",
       "       'Organization country', 'Geo Shape', 'geo_point_2d'],\n",
       "      dtype='object')"
      ]
     },
     "execution_count": 2,
     "metadata": {},
     "output_type": "execute_result"
    }
   ],
   "source": [
    "noble_redo = pd.read_csv(r\"C:\\Users\\maria\\OneDrive\\Desktop\\nobel-prize-laureates.csv\", delimiter=\";\", encoding='utf-8')\n",
    "noble_redo.columns"
   ]
  },
  {
   "cell_type": "code",
   "execution_count": 3,
   "id": "3b38ff22",
   "metadata": {},
   "outputs": [
    {
     "data": {
      "text/html": [
       "<div>\n",
       "<style scoped>\n",
       "    .dataframe tbody tr th:only-of-type {\n",
       "        vertical-align: middle;\n",
       "    }\n",
       "\n",
       "    .dataframe tbody tr th {\n",
       "        vertical-align: top;\n",
       "    }\n",
       "\n",
       "    .dataframe thead th {\n",
       "        text-align: right;\n",
       "    }\n",
       "</style>\n",
       "<table border=\"1\" class=\"dataframe\">\n",
       "  <thead>\n",
       "    <tr style=\"text-align: right;\">\n",
       "      <th></th>\n",
       "      <th>0</th>\n",
       "      <th>1</th>\n",
       "      <th>2</th>\n",
       "      <th>3</th>\n",
       "      <th>4</th>\n",
       "    </tr>\n",
       "  </thead>\n",
       "  <tbody>\n",
       "    <tr>\n",
       "      <th>Id</th>\n",
       "      <td>148</td>\n",
       "      <td>82</td>\n",
       "      <td>446</td>\n",
       "      <td>666</td>\n",
       "      <td>203</td>\n",
       "    </tr>\n",
       "    <tr>\n",
       "      <th>Firstname</th>\n",
       "      <td>Frederick</td>\n",
       "      <td>Nicolay G.</td>\n",
       "      <td>Edmond H.</td>\n",
       "      <td>Camilo José</td>\n",
       "      <td>Artturi</td>\n",
       "    </tr>\n",
       "    <tr>\n",
       "      <th>Surname</th>\n",
       "      <td>Reines</td>\n",
       "      <td>Basov</td>\n",
       "      <td>Fischer</td>\n",
       "      <td>Cela</td>\n",
       "      <td>Virtanen</td>\n",
       "    </tr>\n",
       "    <tr>\n",
       "      <th>Born</th>\n",
       "      <td>1918-03-16</td>\n",
       "      <td>1922-12-14</td>\n",
       "      <td>1920-04-06</td>\n",
       "      <td>1916-05-11</td>\n",
       "      <td>1895-01-15</td>\n",
       "    </tr>\n",
       "    <tr>\n",
       "      <th>Died</th>\n",
       "      <td>1998-08-26</td>\n",
       "      <td>2001-07-01</td>\n",
       "      <td>2021-08-27</td>\n",
       "      <td>2002-01-17</td>\n",
       "      <td>1973-11-11</td>\n",
       "    </tr>\n",
       "    <tr>\n",
       "      <th>Born country</th>\n",
       "      <td>USA</td>\n",
       "      <td>USSR (now Russia)</td>\n",
       "      <td>China</td>\n",
       "      <td>Spain</td>\n",
       "      <td>Russian Empire (now Finland)</td>\n",
       "    </tr>\n",
       "    <tr>\n",
       "      <th>Born country code</th>\n",
       "      <td>US</td>\n",
       "      <td>RU</td>\n",
       "      <td>CN</td>\n",
       "      <td>ES</td>\n",
       "      <td>FI</td>\n",
       "    </tr>\n",
       "    <tr>\n",
       "      <th>Born city</th>\n",
       "      <td>Paterson NJ</td>\n",
       "      <td>Usman</td>\n",
       "      <td>Shanghai</td>\n",
       "      <td>Iria Flavia</td>\n",
       "      <td>Helsinki</td>\n",
       "    </tr>\n",
       "    <tr>\n",
       "      <th>Died country</th>\n",
       "      <td>USA</td>\n",
       "      <td>Russia</td>\n",
       "      <td>USA</td>\n",
       "      <td>Spain</td>\n",
       "      <td>Finland</td>\n",
       "    </tr>\n",
       "    <tr>\n",
       "      <th>Died country code</th>\n",
       "      <td>US</td>\n",
       "      <td>RU</td>\n",
       "      <td>US</td>\n",
       "      <td>ES</td>\n",
       "      <td>FI</td>\n",
       "    </tr>\n",
       "    <tr>\n",
       "      <th>Died city</th>\n",
       "      <td>Orange CA</td>\n",
       "      <td>Moscow</td>\n",
       "      <td>Seattle WA</td>\n",
       "      <td>Madrid</td>\n",
       "      <td>Helsinki</td>\n",
       "    </tr>\n",
       "    <tr>\n",
       "      <th>Gender</th>\n",
       "      <td>male</td>\n",
       "      <td>male</td>\n",
       "      <td>male</td>\n",
       "      <td>male</td>\n",
       "      <td>male</td>\n",
       "    </tr>\n",
       "    <tr>\n",
       "      <th>Year</th>\n",
       "      <td>1995</td>\n",
       "      <td>1964</td>\n",
       "      <td>1992</td>\n",
       "      <td>1989</td>\n",
       "      <td>1945</td>\n",
       "    </tr>\n",
       "    <tr>\n",
       "      <th>Category</th>\n",
       "      <td>Physics</td>\n",
       "      <td>Physics</td>\n",
       "      <td>Medicine</td>\n",
       "      <td>Literature</td>\n",
       "      <td>Chemistry</td>\n",
       "    </tr>\n",
       "    <tr>\n",
       "      <th>Overall motivation</th>\n",
       "      <td>\"for pioneering experimental contributions to ...</td>\n",
       "      <td>NaN</td>\n",
       "      <td>NaN</td>\n",
       "      <td>NaN</td>\n",
       "      <td>NaN</td>\n",
       "    </tr>\n",
       "    <tr>\n",
       "      <th>Motivation</th>\n",
       "      <td>\"for the detection of the neutrino\"</td>\n",
       "      <td>\"for fundamental work in the field of quantum ...</td>\n",
       "      <td>\"for their discoveries concerning reversible p...</td>\n",
       "      <td>\"for a rich and intensive prose which with res...</td>\n",
       "      <td>\"for his research and inventions in agricultur...</td>\n",
       "    </tr>\n",
       "    <tr>\n",
       "      <th>Organization name</th>\n",
       "      <td>University of California</td>\n",
       "      <td>P.N. Lebedev Physical Institute</td>\n",
       "      <td>University of Washington</td>\n",
       "      <td>NaN</td>\n",
       "      <td>University of Helsinki</td>\n",
       "    </tr>\n",
       "    <tr>\n",
       "      <th>Organization city</th>\n",
       "      <td>Irvine CA</td>\n",
       "      <td>Moscow</td>\n",
       "      <td>Seattle WA</td>\n",
       "      <td>NaN</td>\n",
       "      <td>Helsinki</td>\n",
       "    </tr>\n",
       "    <tr>\n",
       "      <th>Organization country</th>\n",
       "      <td>USA</td>\n",
       "      <td>USSR (now Russia)</td>\n",
       "      <td>USA</td>\n",
       "      <td>NaN</td>\n",
       "      <td>Finland</td>\n",
       "    </tr>\n",
       "    <tr>\n",
       "      <th>Geo Shape</th>\n",
       "      <td>{\"coordinates\": [[[[-155.60651897, 20.13795556...</td>\n",
       "      <td>{\"coordinates\": [[[[132.448985222, 42.84540436...</td>\n",
       "      <td>{\"coordinates\": [[[[-155.60651897, 20.13795556...</td>\n",
       "      <td>NaN</td>\n",
       "      <td>{\"coordinates\": [[[[22.443695509, 59.85146719]...</td>\n",
       "    </tr>\n",
       "    <tr>\n",
       "      <th>geo_point_2d</th>\n",
       "      <td>45.68753333949257, -112.49433391594509</td>\n",
       "      <td>61.98434173753343, 96.69345576745796</td>\n",
       "      <td>45.68753333949257, -112.49433391594509</td>\n",
       "      <td>NaN</td>\n",
       "      <td>64.49602536200206, 26.271352096349112</td>\n",
       "    </tr>\n",
       "  </tbody>\n",
       "</table>\n",
       "</div>"
      ],
      "text/plain": [
       "                                                                      0  \\\n",
       "Id                                                                  148   \n",
       "Firstname                                                     Frederick   \n",
       "Surname                                                          Reines   \n",
       "Born                                                         1918-03-16   \n",
       "Died                                                         1998-08-26   \n",
       "Born country                                                        USA   \n",
       "Born country code                                                    US   \n",
       "Born city                                                   Paterson NJ   \n",
       "Died country                                                        USA   \n",
       "Died country code                                                    US   \n",
       "Died city                                                     Orange CA   \n",
       "Gender                                                             male   \n",
       "Year                                                               1995   \n",
       "Category                                                        Physics   \n",
       "Overall motivation    \"for pioneering experimental contributions to ...   \n",
       "Motivation                          \"for the detection of the neutrino\"   \n",
       "Organization name                              University of California   \n",
       "Organization city                                             Irvine CA   \n",
       "Organization country                                                USA   \n",
       "Geo Shape             {\"coordinates\": [[[[-155.60651897, 20.13795556...   \n",
       "geo_point_2d                     45.68753333949257, -112.49433391594509   \n",
       "\n",
       "                                                                      1  \\\n",
       "Id                                                                   82   \n",
       "Firstname                                                    Nicolay G.   \n",
       "Surname                                                           Basov   \n",
       "Born                                                         1922-12-14   \n",
       "Died                                                         2001-07-01   \n",
       "Born country                                          USSR (now Russia)   \n",
       "Born country code                                                    RU   \n",
       "Born city                                                         Usman   \n",
       "Died country                                                     Russia   \n",
       "Died country code                                                    RU   \n",
       "Died city                                                        Moscow   \n",
       "Gender                                                             male   \n",
       "Year                                                               1964   \n",
       "Category                                                        Physics   \n",
       "Overall motivation                                                  NaN   \n",
       "Motivation            \"for fundamental work in the field of quantum ...   \n",
       "Organization name                       P.N. Lebedev Physical Institute   \n",
       "Organization city                                                Moscow   \n",
       "Organization country                                  USSR (now Russia)   \n",
       "Geo Shape             {\"coordinates\": [[[[132.448985222, 42.84540436...   \n",
       "geo_point_2d                       61.98434173753343, 96.69345576745796   \n",
       "\n",
       "                                                                      2  \\\n",
       "Id                                                                  446   \n",
       "Firstname                                                     Edmond H.   \n",
       "Surname                                                         Fischer   \n",
       "Born                                                         1920-04-06   \n",
       "Died                                                         2021-08-27   \n",
       "Born country                                                      China   \n",
       "Born country code                                                    CN   \n",
       "Born city                                                      Shanghai   \n",
       "Died country                                                        USA   \n",
       "Died country code                                                    US   \n",
       "Died city                                                    Seattle WA   \n",
       "Gender                                                             male   \n",
       "Year                                                               1992   \n",
       "Category                                                       Medicine   \n",
       "Overall motivation                                                  NaN   \n",
       "Motivation            \"for their discoveries concerning reversible p...   \n",
       "Organization name                              University of Washington   \n",
       "Organization city                                            Seattle WA   \n",
       "Organization country                                                USA   \n",
       "Geo Shape             {\"coordinates\": [[[[-155.60651897, 20.13795556...   \n",
       "geo_point_2d                     45.68753333949257, -112.49433391594509   \n",
       "\n",
       "                                                                      3  \\\n",
       "Id                                                                  666   \n",
       "Firstname                                                   Camilo José   \n",
       "Surname                                                            Cela   \n",
       "Born                                                         1916-05-11   \n",
       "Died                                                         2002-01-17   \n",
       "Born country                                                      Spain   \n",
       "Born country code                                                    ES   \n",
       "Born city                                                   Iria Flavia   \n",
       "Died country                                                      Spain   \n",
       "Died country code                                                    ES   \n",
       "Died city                                                        Madrid   \n",
       "Gender                                                             male   \n",
       "Year                                                               1989   \n",
       "Category                                                     Literature   \n",
       "Overall motivation                                                  NaN   \n",
       "Motivation            \"for a rich and intensive prose which with res...   \n",
       "Organization name                                                   NaN   \n",
       "Organization city                                                   NaN   \n",
       "Organization country                                                NaN   \n",
       "Geo Shape                                                           NaN   \n",
       "geo_point_2d                                                        NaN   \n",
       "\n",
       "                                                                      4  \n",
       "Id                                                                  203  \n",
       "Firstname                                                       Artturi  \n",
       "Surname                                                        Virtanen  \n",
       "Born                                                         1895-01-15  \n",
       "Died                                                         1973-11-11  \n",
       "Born country                               Russian Empire (now Finland)  \n",
       "Born country code                                                    FI  \n",
       "Born city                                                      Helsinki  \n",
       "Died country                                                    Finland  \n",
       "Died country code                                                    FI  \n",
       "Died city                                                      Helsinki  \n",
       "Gender                                                             male  \n",
       "Year                                                               1945  \n",
       "Category                                                      Chemistry  \n",
       "Overall motivation                                                  NaN  \n",
       "Motivation            \"for his research and inventions in agricultur...  \n",
       "Organization name                                University of Helsinki  \n",
       "Organization city                                              Helsinki  \n",
       "Organization country                                            Finland  \n",
       "Geo Shape             {\"coordinates\": [[[[22.443695509, 59.85146719]...  \n",
       "geo_point_2d                      64.49602536200206, 26.271352096349112  "
      ]
     },
     "execution_count": 3,
     "metadata": {},
     "output_type": "execute_result"
    }
   ],
   "source": [
    "noble_redo.head(5).T"
   ]
  },
  {
   "cell_type": "code",
   "execution_count": 4,
   "id": "f4ada6d1",
   "metadata": {},
   "outputs": [
    {
     "name": "stdout",
     "output_type": "stream",
     "text": [
      "Column:Id                                  || type:int64   || missing %: 0.0%\n",
      "Column:Firstname                           || type:object  || missing %: 0.0%\n",
      "Column:Surname                             || type:object  || missing %: 3.260869565217391%\n",
      "Column:Born                                || type:object  || missing %: 4.644268774703558%\n",
      "Column:Died                                || type:object  || missing %: 32.509881422924906%\n",
      "Column:Born country                        || type:object  || missing %: 3.260869565217391%\n",
      "Column:Born country code                   || type:object  || missing %: 3.260869565217391%\n",
      "Column:Born city                           || type:object  || missing %: 3.458498023715415%\n",
      "Column:Died country                        || type:object  || missing %: 33.99209486166008%\n",
      "Column:Died country code                   || type:object  || missing %: 33.99209486166008%\n",
      "Column:Died city                           || type:object  || missing %: 34.58498023715415%\n",
      "Column:Gender                              || type:object  || missing %: 0.0%\n",
      "Column:Year                                || type:int64   || missing %: 0.0%\n",
      "Column:Category                            || type:object  || missing %: 0.0%\n",
      "Column:Overall motivation                  || type:object  || missing %: 97.72727272727273%\n",
      "Column:Motivation                          || type:object  || missing %: 0.0%\n",
      "Column:Organization name                   || type:object  || missing %: 26.284584980237153%\n",
      "Column:Organization city                   || type:object  || missing %: 26.778656126482215%\n",
      "Column:Organization country                || type:object  || missing %: 26.58102766798419%\n",
      "Column:Geo Shape                           || type:object  || missing %: 35.96837944664031%\n",
      "Column:geo_point_2d                        || type:object  || missing %: 35.96837944664031%\n"
     ]
    }
   ],
   "source": [
    "for cols in noble_redo:\n",
    "    print(f\"Column:{cols:35} || type:{str(noble_redo[cols].dtype):7} || missing %: {(noble_redo[cols].isna().sum()/len(noble_redo)*100)}%\")"
   ]
  },
  {
   "cell_type": "code",
   "execution_count": 5,
   "id": "cf020658",
   "metadata": {},
   "outputs": [],
   "source": [
    "        # Data Cleaning\n",
    "noble_redo['Born'] = pd.to_datetime(noble_redo['Born'])\n",
    "noble_redo['Died'] = pd.to_datetime(noble_redo['Died'])\n",
    "\n",
    "noble_redo['Born_Year'] = noble_redo['Born'].dt.year\n",
    "noble_redo['Died_Year'] = noble_redo['Died'].dt.year\n",
    "noble_redo['Age'] = noble_redo['Died_Year'] - noble_redo['Born_Year']\n",
    "noble_redo['Age_GetPrize'] = noble_redo['Year'] - noble_redo['Born_Year']"
   ]
  },
  {
   "cell_type": "code",
   "execution_count": 6,
   "id": "dce0ce45",
   "metadata": {},
   "outputs": [
    {
     "data": {
      "text/html": [
       "<div>\n",
       "<style scoped>\n",
       "    .dataframe tbody tr th:only-of-type {\n",
       "        vertical-align: middle;\n",
       "    }\n",
       "\n",
       "    .dataframe tbody tr th {\n",
       "        vertical-align: top;\n",
       "    }\n",
       "\n",
       "    .dataframe thead th {\n",
       "        text-align: right;\n",
       "    }\n",
       "</style>\n",
       "<table border=\"1\" class=\"dataframe\">\n",
       "  <thead>\n",
       "    <tr style=\"text-align: right;\">\n",
       "      <th></th>\n",
       "      <th>Born country</th>\n",
       "      <th>Organization country</th>\n",
       "      <th>status</th>\n",
       "    </tr>\n",
       "  </thead>\n",
       "  <tbody>\n",
       "    <tr>\n",
       "      <th>0</th>\n",
       "      <td>USA</td>\n",
       "      <td>USA</td>\n",
       "      <td>Total Laurates</td>\n",
       "    </tr>\n",
       "    <tr>\n",
       "      <th>1</th>\n",
       "      <td>USSR (now Russia)</td>\n",
       "      <td>USSR (now Russia)</td>\n",
       "      <td>Total Laurates</td>\n",
       "    </tr>\n",
       "    <tr>\n",
       "      <th>2</th>\n",
       "      <td>China</td>\n",
       "      <td>USA</td>\n",
       "      <td>Immigrant Laurates</td>\n",
       "    </tr>\n",
       "    <tr>\n",
       "      <th>3</th>\n",
       "      <td>Spain</td>\n",
       "      <td>NaN</td>\n",
       "      <td>Immigrant Laurates</td>\n",
       "    </tr>\n",
       "    <tr>\n",
       "      <th>4</th>\n",
       "      <td>Russian Empire (now Finland)</td>\n",
       "      <td>Finland</td>\n",
       "      <td>Immigrant Laurates</td>\n",
       "    </tr>\n",
       "  </tbody>\n",
       "</table>\n",
       "</div>"
      ],
      "text/plain": [
       "                   Born country Organization country              status\n",
       "0                           USA                  USA      Total Laurates\n",
       "1             USSR (now Russia)    USSR (now Russia)      Total Laurates\n",
       "2                         China                  USA  Immigrant Laurates\n",
       "3                         Spain                  NaN  Immigrant Laurates\n",
       "4  Russian Empire (now Finland)              Finland  Immigrant Laurates"
      ]
     },
     "execution_count": 6,
     "metadata": {},
     "output_type": "execute_result"
    }
   ],
   "source": [
    "def citizen_status(status):\n",
    "    if status['Born country'] != status['Organization country']:\n",
    "        return \"Immigrant Laurates\"\n",
    "    else:\n",
    "        return \"Total Laurates\"\n",
    "noble_redo['status'] = noble_redo.apply(citizen_status, axis=1)\n",
    "noble_redo[['Born country','Organization country','status']].head(5)"
   ]
  },
  {
   "cell_type": "code",
   "execution_count": 7,
   "id": "5b821206",
   "metadata": {},
   "outputs": [
    {
     "data": {
      "text/html": [
       "<div>\n",
       "<style scoped>\n",
       "    .dataframe tbody tr th:only-of-type {\n",
       "        vertical-align: middle;\n",
       "    }\n",
       "\n",
       "    .dataframe tbody tr th {\n",
       "        vertical-align: top;\n",
       "    }\n",
       "\n",
       "    .dataframe thead th {\n",
       "        text-align: right;\n",
       "    }\n",
       "</style>\n",
       "<table border=\"1\" class=\"dataframe\">\n",
       "  <thead>\n",
       "    <tr style=\"text-align: right;\">\n",
       "      <th></th>\n",
       "      <th>Age_GetPrize</th>\n",
       "      <th>Age_groups</th>\n",
       "    </tr>\n",
       "  </thead>\n",
       "  <tbody>\n",
       "    <tr>\n",
       "      <th>0</th>\n",
       "      <td>77.0</td>\n",
       "      <td>75-90</td>\n",
       "    </tr>\n",
       "    <tr>\n",
       "      <th>1</th>\n",
       "      <td>42.0</td>\n",
       "      <td>30-45</td>\n",
       "    </tr>\n",
       "    <tr>\n",
       "      <th>2</th>\n",
       "      <td>72.0</td>\n",
       "      <td>60-75</td>\n",
       "    </tr>\n",
       "    <tr>\n",
       "      <th>3</th>\n",
       "      <td>73.0</td>\n",
       "      <td>60-75</td>\n",
       "    </tr>\n",
       "    <tr>\n",
       "      <th>4</th>\n",
       "      <td>50.0</td>\n",
       "      <td>45-60</td>\n",
       "    </tr>\n",
       "  </tbody>\n",
       "</table>\n",
       "</div>"
      ],
      "text/plain": [
       "   Age_GetPrize Age_groups\n",
       "0          77.0      75-90\n",
       "1          42.0      30-45\n",
       "2          72.0      60-75\n",
       "3          73.0      60-75\n",
       "4          50.0      45-60"
      ]
     },
     "execution_count": 7,
     "metadata": {},
     "output_type": "execute_result"
    }
   ],
   "source": [
    "def age_groups(age):\n",
    "    if age >= 15 and age <= 30:\n",
    "        return \"15-30\"\n",
    "    elif age > 30 and age <= 45:\n",
    "        return \"30-45\"\n",
    "    elif age > 45 and age <= 60:\n",
    "        return \"45-60\"\n",
    "    elif age > 60 and age <= 75:\n",
    "        return \"60-75\"\n",
    "    elif age > 75 and age <=90:\n",
    "        return \"75-90\"\n",
    "    elif age > 90 and age <=105:\n",
    "        return \"90-105\"\n",
    "    else:\n",
    "        return \"Not Disclosed\"\n",
    "noble_redo['Age_groups'] = noble_redo['Age_GetPrize'].apply(age_groups)\n",
    "noble_redo[['Age_GetPrize', 'Age_groups']].head(5)"
   ]
  },
  {
   "cell_type": "code",
   "execution_count": 8,
   "id": "920706b8",
   "metadata": {},
   "outputs": [
    {
     "data": {
      "text/html": [
       "<div>\n",
       "<style scoped>\n",
       "    .dataframe tbody tr th:only-of-type {\n",
       "        vertical-align: middle;\n",
       "    }\n",
       "\n",
       "    .dataframe tbody tr th {\n",
       "        vertical-align: top;\n",
       "    }\n",
       "\n",
       "    .dataframe thead th {\n",
       "        text-align: right;\n",
       "    }\n",
       "</style>\n",
       "<table border=\"1\" class=\"dataframe\">\n",
       "  <thead>\n",
       "    <tr style=\"text-align: right;\">\n",
       "      <th></th>\n",
       "      <th>Year</th>\n",
       "      <th>Year_Decade</th>\n",
       "    </tr>\n",
       "  </thead>\n",
       "  <tbody>\n",
       "    <tr>\n",
       "      <th>0</th>\n",
       "      <td>1995</td>\n",
       "      <td>1990s</td>\n",
       "    </tr>\n",
       "    <tr>\n",
       "      <th>1</th>\n",
       "      <td>1964</td>\n",
       "      <td>1960s</td>\n",
       "    </tr>\n",
       "    <tr>\n",
       "      <th>2</th>\n",
       "      <td>1992</td>\n",
       "      <td>1990s</td>\n",
       "    </tr>\n",
       "    <tr>\n",
       "      <th>3</th>\n",
       "      <td>1989</td>\n",
       "      <td>1980s</td>\n",
       "    </tr>\n",
       "    <tr>\n",
       "      <th>4</th>\n",
       "      <td>1945</td>\n",
       "      <td>1940s</td>\n",
       "    </tr>\n",
       "    <tr>\n",
       "      <th>...</th>\n",
       "      <td>...</td>\n",
       "      <td>...</td>\n",
       "    </tr>\n",
       "    <tr>\n",
       "      <th>1007</th>\n",
       "      <td>1960</td>\n",
       "      <td>1960s</td>\n",
       "    </tr>\n",
       "    <tr>\n",
       "      <th>1008</th>\n",
       "      <td>1995</td>\n",
       "      <td>1990s</td>\n",
       "    </tr>\n",
       "    <tr>\n",
       "      <th>1009</th>\n",
       "      <td>1974</td>\n",
       "      <td>1970s</td>\n",
       "    </tr>\n",
       "    <tr>\n",
       "      <th>1010</th>\n",
       "      <td>1925</td>\n",
       "      <td>1920s</td>\n",
       "    </tr>\n",
       "    <tr>\n",
       "      <th>1011</th>\n",
       "      <td>1953</td>\n",
       "      <td>1950s</td>\n",
       "    </tr>\n",
       "  </tbody>\n",
       "</table>\n",
       "<p>1012 rows × 2 columns</p>\n",
       "</div>"
      ],
      "text/plain": [
       "      Year Year_Decade\n",
       "0     1995       1990s\n",
       "1     1964       1960s\n",
       "2     1992       1990s\n",
       "3     1989       1980s\n",
       "4     1945       1940s\n",
       "...    ...         ...\n",
       "1007  1960       1960s\n",
       "1008  1995       1990s\n",
       "1009  1974       1970s\n",
       "1010  1925       1920s\n",
       "1011  1953       1950s\n",
       "\n",
       "[1012 rows x 2 columns]"
      ]
     },
     "execution_count": 8,
     "metadata": {},
     "output_type": "execute_result"
    }
   ],
   "source": [
    "def Years_Decade(years):\n",
    "    if years >= 1900 and years < 1910:\n",
    "        return \"1900s\"\n",
    "    elif years >= 1910 and years < 1920:\n",
    "        return \"1910s\"\n",
    "    elif years >= 1920 and years < 1930:\n",
    "        return \"1920s\"\n",
    "    elif years >= 1930 and years < 1940:\n",
    "        return \"1930s\"\n",
    "    elif years >= 1940 and years < 1950:\n",
    "        return \"1940s\"\n",
    "    elif years >= 1950 and years < 1960:\n",
    "        return \"1950s\"\n",
    "    elif years >= 1960 and years < 1970:\n",
    "        return \"1960s\"\n",
    "    elif years >= 1970 and years < 1980:\n",
    "        return \"1970s\"\n",
    "    elif years >= 1980 and years < 1990:\n",
    "        return \"1980s\"\n",
    "    elif years >= 1990 and years < 2000:\n",
    "        return \"1990s\"\n",
    "    elif years >= 2000 and years < 2010:\n",
    "        return \"2000s\"\n",
    "    elif years >= 2010 and years < 2020:\n",
    "        return \"2010s\"\n",
    "    else:\n",
    "        return \"N/A\"\n",
    "noble_redo['Year_Decade'] = noble_redo['Year'].apply(Years_Decade)\n",
    "noble_redo[['Year', 'Year_Decade']]"
   ]
  },
  {
   "cell_type": "code",
   "execution_count": 9,
   "id": "37d45107",
   "metadata": {},
   "outputs": [
    {
     "data": {
      "text/plain": [
       "Marie Curie          2\n",
       "Frederick Sanger     2\n",
       "Barry Sharpless      2\n",
       "Linus Pauling        2\n",
       "John Bardeen         2\n",
       "                    ..\n",
       "Henry Taube          1\n",
       "Lawrence R. Klein    1\n",
       "Paul Karrer          1\n",
       "Christian de Duve    1\n",
       "Frits Zernike        1\n",
       "Name: FullName, Length: 974, dtype: int64"
      ]
     },
     "execution_count": 9,
     "metadata": {},
     "output_type": "execute_result"
    }
   ],
   "source": [
    "noble_redo['FullName'] = noble_redo['Firstname'] + \" \" + noble_redo['Surname']\n",
    "noble_redo['FullName'].value_counts()"
   ]
  },
  {
   "cell_type": "code",
   "execution_count": 10,
   "id": "476d71b0",
   "metadata": {},
   "outputs": [
    {
     "data": {
      "text/html": [
       "<div>\n",
       "<style scoped>\n",
       "    .dataframe tbody tr th:only-of-type {\n",
       "        vertical-align: middle;\n",
       "    }\n",
       "\n",
       "    .dataframe tbody tr th {\n",
       "        vertical-align: top;\n",
       "    }\n",
       "\n",
       "    .dataframe thead th {\n",
       "        text-align: right;\n",
       "    }\n",
       "</style>\n",
       "<table border=\"1\" class=\"dataframe\">\n",
       "  <thead>\n",
       "    <tr style=\"text-align: right;\">\n",
       "      <th></th>\n",
       "      <th>Id</th>\n",
       "      <th>Born</th>\n",
       "      <th>Died</th>\n",
       "      <th>Born country</th>\n",
       "      <th>Born country code</th>\n",
       "      <th>Born city</th>\n",
       "      <th>Died country</th>\n",
       "      <th>Died city</th>\n",
       "      <th>Gender</th>\n",
       "      <th>Year</th>\n",
       "      <th>...</th>\n",
       "      <th>Organization city</th>\n",
       "      <th>Organization country</th>\n",
       "      <th>Geo Shape</th>\n",
       "      <th>geo_point_2d</th>\n",
       "      <th>Age</th>\n",
       "      <th>Age_GetPrize</th>\n",
       "      <th>status</th>\n",
       "      <th>Age_groups</th>\n",
       "      <th>Year_Decade</th>\n",
       "      <th>FullName</th>\n",
       "    </tr>\n",
       "  </thead>\n",
       "  <tbody>\n",
       "    <tr>\n",
       "      <th>0</th>\n",
       "      <td>148</td>\n",
       "      <td>1918-03-16</td>\n",
       "      <td>1998-08-26</td>\n",
       "      <td>USA</td>\n",
       "      <td>US</td>\n",
       "      <td>Paterson NJ</td>\n",
       "      <td>USA</td>\n",
       "      <td>Orange CA</td>\n",
       "      <td>male</td>\n",
       "      <td>1995</td>\n",
       "      <td>...</td>\n",
       "      <td>Irvine CA</td>\n",
       "      <td>USA</td>\n",
       "      <td>{\"coordinates\": [[[[-155.60651897, 20.13795556...</td>\n",
       "      <td>45.68753333949257, -112.49433391594509</td>\n",
       "      <td>80.0</td>\n",
       "      <td>77.0</td>\n",
       "      <td>Total Laurates</td>\n",
       "      <td>75-90</td>\n",
       "      <td>1990s</td>\n",
       "      <td>Frederick Reines</td>\n",
       "    </tr>\n",
       "    <tr>\n",
       "      <th>1</th>\n",
       "      <td>82</td>\n",
       "      <td>1922-12-14</td>\n",
       "      <td>2001-07-01</td>\n",
       "      <td>USSR (now Russia)</td>\n",
       "      <td>RU</td>\n",
       "      <td>Usman</td>\n",
       "      <td>Russia</td>\n",
       "      <td>Moscow</td>\n",
       "      <td>male</td>\n",
       "      <td>1964</td>\n",
       "      <td>...</td>\n",
       "      <td>Moscow</td>\n",
       "      <td>USSR (now Russia)</td>\n",
       "      <td>{\"coordinates\": [[[[132.448985222, 42.84540436...</td>\n",
       "      <td>61.98434173753343, 96.69345576745796</td>\n",
       "      <td>79.0</td>\n",
       "      <td>42.0</td>\n",
       "      <td>Total Laurates</td>\n",
       "      <td>30-45</td>\n",
       "      <td>1960s</td>\n",
       "      <td>Nicolay G. Basov</td>\n",
       "    </tr>\n",
       "    <tr>\n",
       "      <th>2</th>\n",
       "      <td>446</td>\n",
       "      <td>1920-04-06</td>\n",
       "      <td>2021-08-27</td>\n",
       "      <td>China</td>\n",
       "      <td>CN</td>\n",
       "      <td>Shanghai</td>\n",
       "      <td>USA</td>\n",
       "      <td>Seattle WA</td>\n",
       "      <td>male</td>\n",
       "      <td>1992</td>\n",
       "      <td>...</td>\n",
       "      <td>Seattle WA</td>\n",
       "      <td>USA</td>\n",
       "      <td>{\"coordinates\": [[[[-155.60651897, 20.13795556...</td>\n",
       "      <td>45.68753333949257, -112.49433391594509</td>\n",
       "      <td>101.0</td>\n",
       "      <td>72.0</td>\n",
       "      <td>Immigrant Laurates</td>\n",
       "      <td>60-75</td>\n",
       "      <td>1990s</td>\n",
       "      <td>Edmond H. Fischer</td>\n",
       "    </tr>\n",
       "    <tr>\n",
       "      <th>3</th>\n",
       "      <td>666</td>\n",
       "      <td>1916-05-11</td>\n",
       "      <td>2002-01-17</td>\n",
       "      <td>Spain</td>\n",
       "      <td>ES</td>\n",
       "      <td>Iria Flavia</td>\n",
       "      <td>Spain</td>\n",
       "      <td>Madrid</td>\n",
       "      <td>male</td>\n",
       "      <td>1989</td>\n",
       "      <td>...</td>\n",
       "      <td>NaN</td>\n",
       "      <td>NaN</td>\n",
       "      <td>NaN</td>\n",
       "      <td>NaN</td>\n",
       "      <td>86.0</td>\n",
       "      <td>73.0</td>\n",
       "      <td>Immigrant Laurates</td>\n",
       "      <td>60-75</td>\n",
       "      <td>1980s</td>\n",
       "      <td>Camilo José Cela</td>\n",
       "    </tr>\n",
       "    <tr>\n",
       "      <th>4</th>\n",
       "      <td>203</td>\n",
       "      <td>1895-01-15</td>\n",
       "      <td>1973-11-11</td>\n",
       "      <td>Russian Empire (now Finland)</td>\n",
       "      <td>FI</td>\n",
       "      <td>Helsinki</td>\n",
       "      <td>Finland</td>\n",
       "      <td>Helsinki</td>\n",
       "      <td>male</td>\n",
       "      <td>1945</td>\n",
       "      <td>...</td>\n",
       "      <td>Helsinki</td>\n",
       "      <td>Finland</td>\n",
       "      <td>{\"coordinates\": [[[[22.443695509, 59.85146719]...</td>\n",
       "      <td>64.49602536200206, 26.271352096349112</td>\n",
       "      <td>78.0</td>\n",
       "      <td>50.0</td>\n",
       "      <td>Immigrant Laurates</td>\n",
       "      <td>45-60</td>\n",
       "      <td>1940s</td>\n",
       "      <td>Artturi Virtanen</td>\n",
       "    </tr>\n",
       "  </tbody>\n",
       "</table>\n",
       "<p>5 rows × 23 columns</p>\n",
       "</div>"
      ],
      "text/plain": [
       "    Id       Born       Died                  Born country Born country code  \\\n",
       "0  148 1918-03-16 1998-08-26                           USA                US   \n",
       "1   82 1922-12-14 2001-07-01             USSR (now Russia)                RU   \n",
       "2  446 1920-04-06 2021-08-27                         China                CN   \n",
       "3  666 1916-05-11 2002-01-17                         Spain                ES   \n",
       "4  203 1895-01-15 1973-11-11  Russian Empire (now Finland)                FI   \n",
       "\n",
       "     Born city Died country   Died city Gender  Year  ... Organization city  \\\n",
       "0  Paterson NJ          USA   Orange CA   male  1995  ...         Irvine CA   \n",
       "1        Usman       Russia      Moscow   male  1964  ...            Moscow   \n",
       "2     Shanghai          USA  Seattle WA   male  1992  ...        Seattle WA   \n",
       "3  Iria Flavia        Spain      Madrid   male  1989  ...               NaN   \n",
       "4     Helsinki      Finland    Helsinki   male  1945  ...          Helsinki   \n",
       "\n",
       "  Organization country                                          Geo Shape  \\\n",
       "0                  USA  {\"coordinates\": [[[[-155.60651897, 20.13795556...   \n",
       "1    USSR (now Russia)  {\"coordinates\": [[[[132.448985222, 42.84540436...   \n",
       "2                  USA  {\"coordinates\": [[[[-155.60651897, 20.13795556...   \n",
       "3                  NaN                                                NaN   \n",
       "4              Finland  {\"coordinates\": [[[[22.443695509, 59.85146719]...   \n",
       "\n",
       "                             geo_point_2d    Age Age_GetPrize  \\\n",
       "0  45.68753333949257, -112.49433391594509   80.0         77.0   \n",
       "1    61.98434173753343, 96.69345576745796   79.0         42.0   \n",
       "2  45.68753333949257, -112.49433391594509  101.0         72.0   \n",
       "3                                     NaN   86.0         73.0   \n",
       "4   64.49602536200206, 26.271352096349112   78.0         50.0   \n",
       "\n",
       "               status  Age_groups  Year_Decade           FullName  \n",
       "0      Total Laurates       75-90        1990s   Frederick Reines  \n",
       "1      Total Laurates       30-45        1960s   Nicolay G. Basov  \n",
       "2  Immigrant Laurates       60-75        1990s  Edmond H. Fischer  \n",
       "3  Immigrant Laurates       60-75        1980s   Camilo José Cela  \n",
       "4  Immigrant Laurates       45-60        1940s   Artturi Virtanen  \n",
       "\n",
       "[5 rows x 23 columns]"
      ]
     },
     "execution_count": 10,
     "metadata": {},
     "output_type": "execute_result"
    }
   ],
   "source": [
    "noble_redo.drop(columns={'Died country code', 'Overall motivation', 'Born_Year', 'Died_Year', 'Firstname', 'Surname'}, inplace=True)\n",
    "noble_redo.head(5)"
   ]
  },
  {
   "cell_type": "code",
   "execution_count": 11,
   "id": "51b221ca",
   "metadata": {},
   "outputs": [
    {
     "data": {
      "application/vnd.plotly.v1+json": {
       "config": {
        "plotlyServerURL": "https://plot.ly"
       },
       "data": [
        {
         "domain": {
          "x": [
           0,
           1
          ],
          "y": [
           0,
           1
          ]
         },
         "mode": "number",
         "title": {
          "font": {
           "size": 16
          },
          "text": "Number of women who won the nobel prize"
         },
         "type": "indicator",
         "value": 66
        }
       ],
       "layout": {
        "height": 400,
        "paper_bgcolor": "lightpink",
        "template": {
         "data": {
          "bar": [
           {
            "error_x": {
             "color": "#2a3f5f"
            },
            "error_y": {
             "color": "#2a3f5f"
            },
            "marker": {
             "line": {
              "color": "#E5ECF6",
              "width": 0.5
             },
             "pattern": {
              "fillmode": "overlay",
              "size": 10,
              "solidity": 0.2
             }
            },
            "type": "bar"
           }
          ],
          "barpolar": [
           {
            "marker": {
             "line": {
              "color": "#E5ECF6",
              "width": 0.5
             },
             "pattern": {
              "fillmode": "overlay",
              "size": 10,
              "solidity": 0.2
             }
            },
            "type": "barpolar"
           }
          ],
          "carpet": [
           {
            "aaxis": {
             "endlinecolor": "#2a3f5f",
             "gridcolor": "white",
             "linecolor": "white",
             "minorgridcolor": "white",
             "startlinecolor": "#2a3f5f"
            },
            "baxis": {
             "endlinecolor": "#2a3f5f",
             "gridcolor": "white",
             "linecolor": "white",
             "minorgridcolor": "white",
             "startlinecolor": "#2a3f5f"
            },
            "type": "carpet"
           }
          ],
          "choropleth": [
           {
            "colorbar": {
             "outlinewidth": 0,
             "ticks": ""
            },
            "type": "choropleth"
           }
          ],
          "contour": [
           {
            "colorbar": {
             "outlinewidth": 0,
             "ticks": ""
            },
            "colorscale": [
             [
              0,
              "#0d0887"
             ],
             [
              0.1111111111111111,
              "#46039f"
             ],
             [
              0.2222222222222222,
              "#7201a8"
             ],
             [
              0.3333333333333333,
              "#9c179e"
             ],
             [
              0.4444444444444444,
              "#bd3786"
             ],
             [
              0.5555555555555556,
              "#d8576b"
             ],
             [
              0.6666666666666666,
              "#ed7953"
             ],
             [
              0.7777777777777778,
              "#fb9f3a"
             ],
             [
              0.8888888888888888,
              "#fdca26"
             ],
             [
              1,
              "#f0f921"
             ]
            ],
            "type": "contour"
           }
          ],
          "contourcarpet": [
           {
            "colorbar": {
             "outlinewidth": 0,
             "ticks": ""
            },
            "type": "contourcarpet"
           }
          ],
          "heatmap": [
           {
            "colorbar": {
             "outlinewidth": 0,
             "ticks": ""
            },
            "colorscale": [
             [
              0,
              "#0d0887"
             ],
             [
              0.1111111111111111,
              "#46039f"
             ],
             [
              0.2222222222222222,
              "#7201a8"
             ],
             [
              0.3333333333333333,
              "#9c179e"
             ],
             [
              0.4444444444444444,
              "#bd3786"
             ],
             [
              0.5555555555555556,
              "#d8576b"
             ],
             [
              0.6666666666666666,
              "#ed7953"
             ],
             [
              0.7777777777777778,
              "#fb9f3a"
             ],
             [
              0.8888888888888888,
              "#fdca26"
             ],
             [
              1,
              "#f0f921"
             ]
            ],
            "type": "heatmap"
           }
          ],
          "heatmapgl": [
           {
            "colorbar": {
             "outlinewidth": 0,
             "ticks": ""
            },
            "colorscale": [
             [
              0,
              "#0d0887"
             ],
             [
              0.1111111111111111,
              "#46039f"
             ],
             [
              0.2222222222222222,
              "#7201a8"
             ],
             [
              0.3333333333333333,
              "#9c179e"
             ],
             [
              0.4444444444444444,
              "#bd3786"
             ],
             [
              0.5555555555555556,
              "#d8576b"
             ],
             [
              0.6666666666666666,
              "#ed7953"
             ],
             [
              0.7777777777777778,
              "#fb9f3a"
             ],
             [
              0.8888888888888888,
              "#fdca26"
             ],
             [
              1,
              "#f0f921"
             ]
            ],
            "type": "heatmapgl"
           }
          ],
          "histogram": [
           {
            "marker": {
             "pattern": {
              "fillmode": "overlay",
              "size": 10,
              "solidity": 0.2
             }
            },
            "type": "histogram"
           }
          ],
          "histogram2d": [
           {
            "colorbar": {
             "outlinewidth": 0,
             "ticks": ""
            },
            "colorscale": [
             [
              0,
              "#0d0887"
             ],
             [
              0.1111111111111111,
              "#46039f"
             ],
             [
              0.2222222222222222,
              "#7201a8"
             ],
             [
              0.3333333333333333,
              "#9c179e"
             ],
             [
              0.4444444444444444,
              "#bd3786"
             ],
             [
              0.5555555555555556,
              "#d8576b"
             ],
             [
              0.6666666666666666,
              "#ed7953"
             ],
             [
              0.7777777777777778,
              "#fb9f3a"
             ],
             [
              0.8888888888888888,
              "#fdca26"
             ],
             [
              1,
              "#f0f921"
             ]
            ],
            "type": "histogram2d"
           }
          ],
          "histogram2dcontour": [
           {
            "colorbar": {
             "outlinewidth": 0,
             "ticks": ""
            },
            "colorscale": [
             [
              0,
              "#0d0887"
             ],
             [
              0.1111111111111111,
              "#46039f"
             ],
             [
              0.2222222222222222,
              "#7201a8"
             ],
             [
              0.3333333333333333,
              "#9c179e"
             ],
             [
              0.4444444444444444,
              "#bd3786"
             ],
             [
              0.5555555555555556,
              "#d8576b"
             ],
             [
              0.6666666666666666,
              "#ed7953"
             ],
             [
              0.7777777777777778,
              "#fb9f3a"
             ],
             [
              0.8888888888888888,
              "#fdca26"
             ],
             [
              1,
              "#f0f921"
             ]
            ],
            "type": "histogram2dcontour"
           }
          ],
          "mesh3d": [
           {
            "colorbar": {
             "outlinewidth": 0,
             "ticks": ""
            },
            "type": "mesh3d"
           }
          ],
          "parcoords": [
           {
            "line": {
             "colorbar": {
              "outlinewidth": 0,
              "ticks": ""
             }
            },
            "type": "parcoords"
           }
          ],
          "pie": [
           {
            "automargin": true,
            "type": "pie"
           }
          ],
          "scatter": [
           {
            "fillpattern": {
             "fillmode": "overlay",
             "size": 10,
             "solidity": 0.2
            },
            "type": "scatter"
           }
          ],
          "scatter3d": [
           {
            "line": {
             "colorbar": {
              "outlinewidth": 0,
              "ticks": ""
             }
            },
            "marker": {
             "colorbar": {
              "outlinewidth": 0,
              "ticks": ""
             }
            },
            "type": "scatter3d"
           }
          ],
          "scattercarpet": [
           {
            "marker": {
             "colorbar": {
              "outlinewidth": 0,
              "ticks": ""
             }
            },
            "type": "scattercarpet"
           }
          ],
          "scattergeo": [
           {
            "marker": {
             "colorbar": {
              "outlinewidth": 0,
              "ticks": ""
             }
            },
            "type": "scattergeo"
           }
          ],
          "scattergl": [
           {
            "marker": {
             "colorbar": {
              "outlinewidth": 0,
              "ticks": ""
             }
            },
            "type": "scattergl"
           }
          ],
          "scattermapbox": [
           {
            "marker": {
             "colorbar": {
              "outlinewidth": 0,
              "ticks": ""
             }
            },
            "type": "scattermapbox"
           }
          ],
          "scatterpolar": [
           {
            "marker": {
             "colorbar": {
              "outlinewidth": 0,
              "ticks": ""
             }
            },
            "type": "scatterpolar"
           }
          ],
          "scatterpolargl": [
           {
            "marker": {
             "colorbar": {
              "outlinewidth": 0,
              "ticks": ""
             }
            },
            "type": "scatterpolargl"
           }
          ],
          "scatterternary": [
           {
            "marker": {
             "colorbar": {
              "outlinewidth": 0,
              "ticks": ""
             }
            },
            "type": "scatterternary"
           }
          ],
          "surface": [
           {
            "colorbar": {
             "outlinewidth": 0,
             "ticks": ""
            },
            "colorscale": [
             [
              0,
              "#0d0887"
             ],
             [
              0.1111111111111111,
              "#46039f"
             ],
             [
              0.2222222222222222,
              "#7201a8"
             ],
             [
              0.3333333333333333,
              "#9c179e"
             ],
             [
              0.4444444444444444,
              "#bd3786"
             ],
             [
              0.5555555555555556,
              "#d8576b"
             ],
             [
              0.6666666666666666,
              "#ed7953"
             ],
             [
              0.7777777777777778,
              "#fb9f3a"
             ],
             [
              0.8888888888888888,
              "#fdca26"
             ],
             [
              1,
              "#f0f921"
             ]
            ],
            "type": "surface"
           }
          ],
          "table": [
           {
            "cells": {
             "fill": {
              "color": "#EBF0F8"
             },
             "line": {
              "color": "white"
             }
            },
            "header": {
             "fill": {
              "color": "#C8D4E3"
             },
             "line": {
              "color": "white"
             }
            },
            "type": "table"
           }
          ]
         },
         "layout": {
          "annotationdefaults": {
           "arrowcolor": "#2a3f5f",
           "arrowhead": 0,
           "arrowwidth": 1
          },
          "autotypenumbers": "strict",
          "coloraxis": {
           "colorbar": {
            "outlinewidth": 0,
            "ticks": ""
           }
          },
          "colorscale": {
           "diverging": [
            [
             0,
             "#8e0152"
            ],
            [
             0.1,
             "#c51b7d"
            ],
            [
             0.2,
             "#de77ae"
            ],
            [
             0.3,
             "#f1b6da"
            ],
            [
             0.4,
             "#fde0ef"
            ],
            [
             0.5,
             "#f7f7f7"
            ],
            [
             0.6,
             "#e6f5d0"
            ],
            [
             0.7,
             "#b8e186"
            ],
            [
             0.8,
             "#7fbc41"
            ],
            [
             0.9,
             "#4d9221"
            ],
            [
             1,
             "#276419"
            ]
           ],
           "sequential": [
            [
             0,
             "#0d0887"
            ],
            [
             0.1111111111111111,
             "#46039f"
            ],
            [
             0.2222222222222222,
             "#7201a8"
            ],
            [
             0.3333333333333333,
             "#9c179e"
            ],
            [
             0.4444444444444444,
             "#bd3786"
            ],
            [
             0.5555555555555556,
             "#d8576b"
            ],
            [
             0.6666666666666666,
             "#ed7953"
            ],
            [
             0.7777777777777778,
             "#fb9f3a"
            ],
            [
             0.8888888888888888,
             "#fdca26"
            ],
            [
             1,
             "#f0f921"
            ]
           ],
           "sequentialminus": [
            [
             0,
             "#0d0887"
            ],
            [
             0.1111111111111111,
             "#46039f"
            ],
            [
             0.2222222222222222,
             "#7201a8"
            ],
            [
             0.3333333333333333,
             "#9c179e"
            ],
            [
             0.4444444444444444,
             "#bd3786"
            ],
            [
             0.5555555555555556,
             "#d8576b"
            ],
            [
             0.6666666666666666,
             "#ed7953"
            ],
            [
             0.7777777777777778,
             "#fb9f3a"
            ],
            [
             0.8888888888888888,
             "#fdca26"
            ],
            [
             1,
             "#f0f921"
            ]
           ]
          },
          "colorway": [
           "#636efa",
           "#EF553B",
           "#00cc96",
           "#ab63fa",
           "#FFA15A",
           "#19d3f3",
           "#FF6692",
           "#B6E880",
           "#FF97FF",
           "#FECB52"
          ],
          "font": {
           "color": "#2a3f5f"
          },
          "geo": {
           "bgcolor": "white",
           "lakecolor": "white",
           "landcolor": "#E5ECF6",
           "showlakes": true,
           "showland": true,
           "subunitcolor": "white"
          },
          "hoverlabel": {
           "align": "left"
          },
          "hovermode": "closest",
          "mapbox": {
           "style": "light"
          },
          "paper_bgcolor": "white",
          "plot_bgcolor": "#E5ECF6",
          "polar": {
           "angularaxis": {
            "gridcolor": "white",
            "linecolor": "white",
            "ticks": ""
           },
           "bgcolor": "#E5ECF6",
           "radialaxis": {
            "gridcolor": "white",
            "linecolor": "white",
            "ticks": ""
           }
          },
          "scene": {
           "xaxis": {
            "backgroundcolor": "#E5ECF6",
            "gridcolor": "white",
            "gridwidth": 2,
            "linecolor": "white",
            "showbackground": true,
            "ticks": "",
            "zerolinecolor": "white"
           },
           "yaxis": {
            "backgroundcolor": "#E5ECF6",
            "gridcolor": "white",
            "gridwidth": 2,
            "linecolor": "white",
            "showbackground": true,
            "ticks": "",
            "zerolinecolor": "white"
           },
           "zaxis": {
            "backgroundcolor": "#E5ECF6",
            "gridcolor": "white",
            "gridwidth": 2,
            "linecolor": "white",
            "showbackground": true,
            "ticks": "",
            "zerolinecolor": "white"
           }
          },
          "shapedefaults": {
           "line": {
            "color": "#2a3f5f"
           }
          },
          "ternary": {
           "aaxis": {
            "gridcolor": "white",
            "linecolor": "white",
            "ticks": ""
           },
           "baxis": {
            "gridcolor": "white",
            "linecolor": "white",
            "ticks": ""
           },
           "bgcolor": "#E5ECF6",
           "caxis": {
            "gridcolor": "white",
            "linecolor": "white",
            "ticks": ""
           }
          },
          "title": {
           "x": 0.05
          },
          "xaxis": {
           "automargin": true,
           "gridcolor": "white",
           "linecolor": "white",
           "ticks": "",
           "title": {
            "standoff": 15
           },
           "zerolinecolor": "white",
           "zerolinewidth": 2
          },
          "yaxis": {
           "automargin": true,
           "gridcolor": "white",
           "linecolor": "white",
           "ticks": "",
           "title": {
            "standoff": 15
           },
           "zerolinecolor": "white",
           "zerolinewidth": 2
          }
         }
        },
        "width": 400
       }
      }
     },
     "metadata": {},
     "output_type": "display_data"
    },
    {
     "data": {
      "application/vnd.plotly.v1+json": {
       "config": {
        "plotlyServerURL": "https://plot.ly"
       },
       "data": [
        {
         "domain": {
          "x": [
           0,
           1
          ],
          "y": [
           1,
           0
          ]
         },
         "mode": "number",
         "title": {
          "font": {
           "size": 16
          },
          "text": "Number of men who won the nobel prize"
         },
         "type": "indicator",
         "value": 915
        }
       ],
       "layout": {
        "height": 400,
        "paper_bgcolor": "lightsteelblue",
        "template": {
         "data": {
          "bar": [
           {
            "error_x": {
             "color": "#2a3f5f"
            },
            "error_y": {
             "color": "#2a3f5f"
            },
            "marker": {
             "line": {
              "color": "#E5ECF6",
              "width": 0.5
             },
             "pattern": {
              "fillmode": "overlay",
              "size": 10,
              "solidity": 0.2
             }
            },
            "type": "bar"
           }
          ],
          "barpolar": [
           {
            "marker": {
             "line": {
              "color": "#E5ECF6",
              "width": 0.5
             },
             "pattern": {
              "fillmode": "overlay",
              "size": 10,
              "solidity": 0.2
             }
            },
            "type": "barpolar"
           }
          ],
          "carpet": [
           {
            "aaxis": {
             "endlinecolor": "#2a3f5f",
             "gridcolor": "white",
             "linecolor": "white",
             "minorgridcolor": "white",
             "startlinecolor": "#2a3f5f"
            },
            "baxis": {
             "endlinecolor": "#2a3f5f",
             "gridcolor": "white",
             "linecolor": "white",
             "minorgridcolor": "white",
             "startlinecolor": "#2a3f5f"
            },
            "type": "carpet"
           }
          ],
          "choropleth": [
           {
            "colorbar": {
             "outlinewidth": 0,
             "ticks": ""
            },
            "type": "choropleth"
           }
          ],
          "contour": [
           {
            "colorbar": {
             "outlinewidth": 0,
             "ticks": ""
            },
            "colorscale": [
             [
              0,
              "#0d0887"
             ],
             [
              0.1111111111111111,
              "#46039f"
             ],
             [
              0.2222222222222222,
              "#7201a8"
             ],
             [
              0.3333333333333333,
              "#9c179e"
             ],
             [
              0.4444444444444444,
              "#bd3786"
             ],
             [
              0.5555555555555556,
              "#d8576b"
             ],
             [
              0.6666666666666666,
              "#ed7953"
             ],
             [
              0.7777777777777778,
              "#fb9f3a"
             ],
             [
              0.8888888888888888,
              "#fdca26"
             ],
             [
              1,
              "#f0f921"
             ]
            ],
            "type": "contour"
           }
          ],
          "contourcarpet": [
           {
            "colorbar": {
             "outlinewidth": 0,
             "ticks": ""
            },
            "type": "contourcarpet"
           }
          ],
          "heatmap": [
           {
            "colorbar": {
             "outlinewidth": 0,
             "ticks": ""
            },
            "colorscale": [
             [
              0,
              "#0d0887"
             ],
             [
              0.1111111111111111,
              "#46039f"
             ],
             [
              0.2222222222222222,
              "#7201a8"
             ],
             [
              0.3333333333333333,
              "#9c179e"
             ],
             [
              0.4444444444444444,
              "#bd3786"
             ],
             [
              0.5555555555555556,
              "#d8576b"
             ],
             [
              0.6666666666666666,
              "#ed7953"
             ],
             [
              0.7777777777777778,
              "#fb9f3a"
             ],
             [
              0.8888888888888888,
              "#fdca26"
             ],
             [
              1,
              "#f0f921"
             ]
            ],
            "type": "heatmap"
           }
          ],
          "heatmapgl": [
           {
            "colorbar": {
             "outlinewidth": 0,
             "ticks": ""
            },
            "colorscale": [
             [
              0,
              "#0d0887"
             ],
             [
              0.1111111111111111,
              "#46039f"
             ],
             [
              0.2222222222222222,
              "#7201a8"
             ],
             [
              0.3333333333333333,
              "#9c179e"
             ],
             [
              0.4444444444444444,
              "#bd3786"
             ],
             [
              0.5555555555555556,
              "#d8576b"
             ],
             [
              0.6666666666666666,
              "#ed7953"
             ],
             [
              0.7777777777777778,
              "#fb9f3a"
             ],
             [
              0.8888888888888888,
              "#fdca26"
             ],
             [
              1,
              "#f0f921"
             ]
            ],
            "type": "heatmapgl"
           }
          ],
          "histogram": [
           {
            "marker": {
             "pattern": {
              "fillmode": "overlay",
              "size": 10,
              "solidity": 0.2
             }
            },
            "type": "histogram"
           }
          ],
          "histogram2d": [
           {
            "colorbar": {
             "outlinewidth": 0,
             "ticks": ""
            },
            "colorscale": [
             [
              0,
              "#0d0887"
             ],
             [
              0.1111111111111111,
              "#46039f"
             ],
             [
              0.2222222222222222,
              "#7201a8"
             ],
             [
              0.3333333333333333,
              "#9c179e"
             ],
             [
              0.4444444444444444,
              "#bd3786"
             ],
             [
              0.5555555555555556,
              "#d8576b"
             ],
             [
              0.6666666666666666,
              "#ed7953"
             ],
             [
              0.7777777777777778,
              "#fb9f3a"
             ],
             [
              0.8888888888888888,
              "#fdca26"
             ],
             [
              1,
              "#f0f921"
             ]
            ],
            "type": "histogram2d"
           }
          ],
          "histogram2dcontour": [
           {
            "colorbar": {
             "outlinewidth": 0,
             "ticks": ""
            },
            "colorscale": [
             [
              0,
              "#0d0887"
             ],
             [
              0.1111111111111111,
              "#46039f"
             ],
             [
              0.2222222222222222,
              "#7201a8"
             ],
             [
              0.3333333333333333,
              "#9c179e"
             ],
             [
              0.4444444444444444,
              "#bd3786"
             ],
             [
              0.5555555555555556,
              "#d8576b"
             ],
             [
              0.6666666666666666,
              "#ed7953"
             ],
             [
              0.7777777777777778,
              "#fb9f3a"
             ],
             [
              0.8888888888888888,
              "#fdca26"
             ],
             [
              1,
              "#f0f921"
             ]
            ],
            "type": "histogram2dcontour"
           }
          ],
          "mesh3d": [
           {
            "colorbar": {
             "outlinewidth": 0,
             "ticks": ""
            },
            "type": "mesh3d"
           }
          ],
          "parcoords": [
           {
            "line": {
             "colorbar": {
              "outlinewidth": 0,
              "ticks": ""
             }
            },
            "type": "parcoords"
           }
          ],
          "pie": [
           {
            "automargin": true,
            "type": "pie"
           }
          ],
          "scatter": [
           {
            "fillpattern": {
             "fillmode": "overlay",
             "size": 10,
             "solidity": 0.2
            },
            "type": "scatter"
           }
          ],
          "scatter3d": [
           {
            "line": {
             "colorbar": {
              "outlinewidth": 0,
              "ticks": ""
             }
            },
            "marker": {
             "colorbar": {
              "outlinewidth": 0,
              "ticks": ""
             }
            },
            "type": "scatter3d"
           }
          ],
          "scattercarpet": [
           {
            "marker": {
             "colorbar": {
              "outlinewidth": 0,
              "ticks": ""
             }
            },
            "type": "scattercarpet"
           }
          ],
          "scattergeo": [
           {
            "marker": {
             "colorbar": {
              "outlinewidth": 0,
              "ticks": ""
             }
            },
            "type": "scattergeo"
           }
          ],
          "scattergl": [
           {
            "marker": {
             "colorbar": {
              "outlinewidth": 0,
              "ticks": ""
             }
            },
            "type": "scattergl"
           }
          ],
          "scattermapbox": [
           {
            "marker": {
             "colorbar": {
              "outlinewidth": 0,
              "ticks": ""
             }
            },
            "type": "scattermapbox"
           }
          ],
          "scatterpolar": [
           {
            "marker": {
             "colorbar": {
              "outlinewidth": 0,
              "ticks": ""
             }
            },
            "type": "scatterpolar"
           }
          ],
          "scatterpolargl": [
           {
            "marker": {
             "colorbar": {
              "outlinewidth": 0,
              "ticks": ""
             }
            },
            "type": "scatterpolargl"
           }
          ],
          "scatterternary": [
           {
            "marker": {
             "colorbar": {
              "outlinewidth": 0,
              "ticks": ""
             }
            },
            "type": "scatterternary"
           }
          ],
          "surface": [
           {
            "colorbar": {
             "outlinewidth": 0,
             "ticks": ""
            },
            "colorscale": [
             [
              0,
              "#0d0887"
             ],
             [
              0.1111111111111111,
              "#46039f"
             ],
             [
              0.2222222222222222,
              "#7201a8"
             ],
             [
              0.3333333333333333,
              "#9c179e"
             ],
             [
              0.4444444444444444,
              "#bd3786"
             ],
             [
              0.5555555555555556,
              "#d8576b"
             ],
             [
              0.6666666666666666,
              "#ed7953"
             ],
             [
              0.7777777777777778,
              "#fb9f3a"
             ],
             [
              0.8888888888888888,
              "#fdca26"
             ],
             [
              1,
              "#f0f921"
             ]
            ],
            "type": "surface"
           }
          ],
          "table": [
           {
            "cells": {
             "fill": {
              "color": "#EBF0F8"
             },
             "line": {
              "color": "white"
             }
            },
            "header": {
             "fill": {
              "color": "#C8D4E3"
             },
             "line": {
              "color": "white"
             }
            },
            "type": "table"
           }
          ]
         },
         "layout": {
          "annotationdefaults": {
           "arrowcolor": "#2a3f5f",
           "arrowhead": 0,
           "arrowwidth": 1
          },
          "autotypenumbers": "strict",
          "coloraxis": {
           "colorbar": {
            "outlinewidth": 0,
            "ticks": ""
           }
          },
          "colorscale": {
           "diverging": [
            [
             0,
             "#8e0152"
            ],
            [
             0.1,
             "#c51b7d"
            ],
            [
             0.2,
             "#de77ae"
            ],
            [
             0.3,
             "#f1b6da"
            ],
            [
             0.4,
             "#fde0ef"
            ],
            [
             0.5,
             "#f7f7f7"
            ],
            [
             0.6,
             "#e6f5d0"
            ],
            [
             0.7,
             "#b8e186"
            ],
            [
             0.8,
             "#7fbc41"
            ],
            [
             0.9,
             "#4d9221"
            ],
            [
             1,
             "#276419"
            ]
           ],
           "sequential": [
            [
             0,
             "#0d0887"
            ],
            [
             0.1111111111111111,
             "#46039f"
            ],
            [
             0.2222222222222222,
             "#7201a8"
            ],
            [
             0.3333333333333333,
             "#9c179e"
            ],
            [
             0.4444444444444444,
             "#bd3786"
            ],
            [
             0.5555555555555556,
             "#d8576b"
            ],
            [
             0.6666666666666666,
             "#ed7953"
            ],
            [
             0.7777777777777778,
             "#fb9f3a"
            ],
            [
             0.8888888888888888,
             "#fdca26"
            ],
            [
             1,
             "#f0f921"
            ]
           ],
           "sequentialminus": [
            [
             0,
             "#0d0887"
            ],
            [
             0.1111111111111111,
             "#46039f"
            ],
            [
             0.2222222222222222,
             "#7201a8"
            ],
            [
             0.3333333333333333,
             "#9c179e"
            ],
            [
             0.4444444444444444,
             "#bd3786"
            ],
            [
             0.5555555555555556,
             "#d8576b"
            ],
            [
             0.6666666666666666,
             "#ed7953"
            ],
            [
             0.7777777777777778,
             "#fb9f3a"
            ],
            [
             0.8888888888888888,
             "#fdca26"
            ],
            [
             1,
             "#f0f921"
            ]
           ]
          },
          "colorway": [
           "#636efa",
           "#EF553B",
           "#00cc96",
           "#ab63fa",
           "#FFA15A",
           "#19d3f3",
           "#FF6692",
           "#B6E880",
           "#FF97FF",
           "#FECB52"
          ],
          "font": {
           "color": "#2a3f5f"
          },
          "geo": {
           "bgcolor": "white",
           "lakecolor": "white",
           "landcolor": "#E5ECF6",
           "showlakes": true,
           "showland": true,
           "subunitcolor": "white"
          },
          "hoverlabel": {
           "align": "left"
          },
          "hovermode": "closest",
          "mapbox": {
           "style": "light"
          },
          "paper_bgcolor": "white",
          "plot_bgcolor": "#E5ECF6",
          "polar": {
           "angularaxis": {
            "gridcolor": "white",
            "linecolor": "white",
            "ticks": ""
           },
           "bgcolor": "#E5ECF6",
           "radialaxis": {
            "gridcolor": "white",
            "linecolor": "white",
            "ticks": ""
           }
          },
          "scene": {
           "xaxis": {
            "backgroundcolor": "#E5ECF6",
            "gridcolor": "white",
            "gridwidth": 2,
            "linecolor": "white",
            "showbackground": true,
            "ticks": "",
            "zerolinecolor": "white"
           },
           "yaxis": {
            "backgroundcolor": "#E5ECF6",
            "gridcolor": "white",
            "gridwidth": 2,
            "linecolor": "white",
            "showbackground": true,
            "ticks": "",
            "zerolinecolor": "white"
           },
           "zaxis": {
            "backgroundcolor": "#E5ECF6",
            "gridcolor": "white",
            "gridwidth": 2,
            "linecolor": "white",
            "showbackground": true,
            "ticks": "",
            "zerolinecolor": "white"
           }
          },
          "shapedefaults": {
           "line": {
            "color": "#2a3f5f"
           }
          },
          "ternary": {
           "aaxis": {
            "gridcolor": "white",
            "linecolor": "white",
            "ticks": ""
           },
           "baxis": {
            "gridcolor": "white",
            "linecolor": "white",
            "ticks": ""
           },
           "bgcolor": "#E5ECF6",
           "caxis": {
            "gridcolor": "white",
            "linecolor": "white",
            "ticks": ""
           }
          },
          "title": {
           "x": 0.05
          },
          "xaxis": {
           "automargin": true,
           "gridcolor": "white",
           "linecolor": "white",
           "ticks": "",
           "title": {
            "standoff": 15
           },
           "zerolinecolor": "white",
           "zerolinewidth": 2
          },
          "yaxis": {
           "automargin": true,
           "gridcolor": "white",
           "linecolor": "white",
           "ticks": "",
           "title": {
            "standoff": 15
           },
           "zerolinecolor": "white",
           "zerolinewidth": 2
          }
         }
        },
        "width": 400
       }
      }
     },
     "metadata": {},
     "output_type": "display_data"
    }
   ],
   "source": [
    "# Number of men and women \n",
    "total_women = len(noble_redo[noble_redo['Gender'] == 'female'])\n",
    "total_men = len(noble_redo[noble_redo['Gender'] == 'male'])\n",
    "import plotly.graph_objects as go \n",
    "fig = go.Figure(go.Indicator(\n",
    "    mode = \"number\",\n",
    "    value=total_women,\n",
    "    title={'text': 'Number of women who won the nobel prize', 'font':{'size': 16}},\n",
    "    domain={'x':[0,1], 'y':[0,1]}\n",
    "))\n",
    "fig.update_layout(paper_bgcolor = 'lightpink', height = 400, width = 400)\n",
    "fig.show()\n",
    "fig = go.Figure(go.Indicator(\n",
    "    mode = \"number\",\n",
    "    value=total_men,\n",
    "    title={'text': 'Number of men who won the nobel prize', 'font':{'size': 16}},\n",
    "    domain={'x':[0,1], 'y':[1,0]}\n",
    "))\n",
    "fig.update_layout(paper_bgcolor = 'lightsteelblue', height = 400, width = 400)\n",
    "fig.show()"
   ]
  },
  {
   "cell_type": "code",
   "execution_count": 12,
   "id": "a175dae2",
   "metadata": {},
   "outputs": [
    {
     "data": {
      "image/png": "[encoded data removed]",
      "text/plain": [
       "<Figure size 800x600 with 1 Axes>"
      ]
     },
     "metadata": {},
     "output_type": "display_data"
    }
   ],
   "source": [
    "# Country where the winners are from?\n",
    "country_winners = noble_redo.groupby('Born country')['Id'].size().reset_index(name='Count').sort_values(by='Count', ascending=False)\n",
    "fig,ax = plt.subplots(figsize = (8,6))\n",
    "sns.barplot(country_winners.head(10), x = 'Count', y = 'Born country', ax = ax, palette='bwr')\n",
    "ax.set_title('Country where the winners are from')\n",
    "ax.set(xlabel = 'Total_Number', ylabel= 'Country')\n",
    "ax.tick_params(axis= 'y', rotation = 0)\n",
    "for bars in ax.containers:\n",
    "    ax.bar_label(bars)"
   ]
  },
  {
   "cell_type": "code",
   "execution_count": 13,
   "id": "ef221099",
   "metadata": {},
   "outputs": [
    {
     "data": {
      "image/png": "[encoded data removed]",
      "text/plain": [
       "<Figure size 800x600 with 1 Axes>"
      ]
     },
     "metadata": {},
     "output_type": "display_data"
    }
   ],
   "source": [
    "# What Category do these prizes belong to\n",
    "category_distrubution = noble_redo.groupby('Category')['Id'].size().reset_index(name='Count').sort_values(by='Count', ascending=False)\n",
    "fig,ax = plt.subplots(figsize = (8,6))\n",
    "sns.barplot(category_distrubution, x = 'Count', y = 'Category', ax = ax, palette='bwr')\n",
    "ax.set_title('what Category do these prizes belong to')\n",
    "ax.set(xlabel = 'Total_Number', ylabel= 'Category')\n",
    "ax.tick_params(axis= 'y', rotation = 0)\n",
    "for bars in ax.containers:\n",
    "    ax.bar_label(bars)"
   ]
  },
  {
   "cell_type": "code",
   "execution_count": 14,
   "id": "64a665b9",
   "metadata": {},
   "outputs": [
    {
     "data": {
      "image/png": "[encoded data removed]",
      "text/plain": [
       "<Figure size 800x600 with 1 Axes>"
      ]
     },
     "metadata": {},
     "output_type": "display_data"
    }
   ],
   "source": [
    "share_status = noble_redo.groupby('status')['Id'].count().reset_index(name='Count')\n",
    "fig,ax = plt.subplots(figsize = (8,6))\n",
    "sns.barplot(share_status, x = 'status', y = 'Count',ax= ax, palette='bwr')\n",
    "ax.set_title('Distrubution of Status')\n",
    "ax.set(xlabel = 'status', ylabel= 'Total_Number')\n",
    "ax.tick_params(axis= 'y', rotation = 0)\n",
    "for bars in ax.containers:\n",
    "    ax.bar_label(bars)"
   ]
  },
  {
   "cell_type": "code",
   "execution_count": 15,
   "id": "6c7afc55",
   "metadata": {},
   "outputs": [
    {
     "data": {
      "text/plain": [
       "<Axes: xlabel='Year_Decade', ylabel='Count'>"
      ]
     },
     "execution_count": 15,
     "metadata": {},
     "output_type": "execute_result"
    },
    {
     "data": {
      "image/png": "[encoded data removed]",
      "text/plain": [
       "<Figure size 1200x600 with 1 Axes>"
      ]
     },
     "metadata": {},
     "output_type": "display_data"
    }
   ],
   "source": [
    "# Trend of wins over the years\n",
    "fig = plt.subplots(figsize = (12,6))\n",
    "yearly_trend = noble_redo.groupby('Year_Decade')['Id'].size().reset_index(name = 'Count').sort_values(by='Year_Decade', ascending=True)\n",
    "sns.lineplot(data=yearly_trend, x = 'Year_Decade', y ='Count', linestyle = '--', marker = 'o', color = 'purple')"
   ]
  },
  {
   "cell_type": "code",
   "execution_count": 16,
   "id": "9123ab42",
   "metadata": {},
   "outputs": [
    {
     "data": {
      "image/png": "[encoded data removed]",
      "text/plain": [
       "<Figure size 800x600 with 1 Axes>"
      ]
     },
     "metadata": {},
     "output_type": "display_data"
    }
   ],
   "source": [
    "# University with the most noble laureates\n",
    "University_winners = noble_redo.groupby('Organization name')['Id'].size().reset_index(name='Count').sort_values(by='Count', ascending=False)\n",
    "fig,ax = plt.subplots(figsize =(8,6))\n",
    "sns.barplot(University_winners.head(10), x = 'Count', y='Organization name', ax = ax, palette='bwr')\n",
    "ax.set_title('University with the most noble lauerates?')\n",
    "ax.set(xlabel = 'Total Number', ylabel = 'University')\n",
    "ax.tick_params(axis = 'y', rotation = 0)\n",
    "for bars in ax.containers:\n",
    "    ax.bar_label(bars, label_type='center')\n",
    "plt.show()"
   ]
  },
  {
   "cell_type": "code",
   "execution_count": 17,
   "id": "1f8d09ed",
   "metadata": {},
   "outputs": [
    {
     "data": {
      "image/png": "[encoded data removed]",
      "text/plain": [
       "<Figure size 800x600 with 1 Axes>"
      ]
     },
     "metadata": {},
     "output_type": "display_data"
    }
   ],
   "source": [
    "# The age group to which most winners belong\n",
    "age_winners = noble_redo.groupby('Age_groups')['Id'].size().reset_index(name = 'Count')\n",
    "fig,ax = plt.subplots(figsize =(8,6))\n",
    "sns.barplot(age_winners, x ='Age_groups', y = 'Count', ax = ax, palette='bwr')\n",
    "ax.set_title('The age group to which most winners belong to')\n",
    "ax.set(xlabel= 'Age_Groups', ylabel= 'Total Number')\n",
    "for bars in ax.containers:\n",
    "    ax.bar_label(bars, label_type='edge')\n",
    "plt.show()"
   ]
  }
 ],
 "metadata": {
  "kernelspec": {
   "display_name": "Python 3",
   "language": "python",
   "name": "python3"
  },
  "language_info": {
   "codemirror_mode": {
    "name": "ipython",
    "version": 3
   },
   "file_extension": ".py",
   "mimetype": "text/x-python",
   "name": "python",
   "nbconvert_exporter": "python",
   "pygments_lexer": "ipython3",
   "version": "3.10.11"
  }
 },
 "nbformat": 4,
 "nbformat_minor": 5
}
